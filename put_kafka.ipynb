{
 "cells": [
  {
   "cell_type": "code",
   "execution_count": 2,
   "metadata": {},
   "outputs": [],
   "source": [
    "from kafka.producer import KafkaProducer\n",
    "from kafka.consumer import KafkaConsumer\n",
    "import pandas as pd\n",
    "import time"
   ]
  },
  {
   "cell_type": "code",
   "execution_count": 3,
   "metadata": {},
   "outputs": [
    {
     "name": "stdout",
     "output_type": "stream",
     "text": [
      "Starting to push data to Kafka every 5 seconds...\n",
      "Stopping data push...\n"
     ]
    }
   ],
   "source": [
    "\n",
    "\n",
    "def stream_data_to_kafka():\n",
    "    # Tạo Kafka Producer\n",
    "    producer = KafkaProducer(bootstrap_servers='localhost:9092')\n",
    "\n",
    "\n",
    "    print(\"Starting to push data to Kafka every 5 seconds...\")\n",
    "\n",
    "    try:\n",
    "        while True:\n",
    "            # Tạo dữ liệu\n",
    "            #data = generate_data()\n",
    "            # Đẩy dữ liệu vào Kafka topic\n",
    "           # create Kafka consumer instance\n",
    "            producer = KafkaProducer(bootstrap_servers=\"localhost:9092\")\n",
    "\n",
    "            with open(\"Data_vinamilk2.csv\", \"r\") as f:\n",
    "                for line in f:\n",
    "                    producer.send(\"sic_4\", line.encode())\n",
    "\n",
    "            producer.flush()\n",
    "            # consumer = KafkaConsumer(\"your_topic_name\", bootstrap_servers='localhost:9092', auto_offset_reset='earliest', enable_auto_commit=False)\n",
    "            # # poll for new messages in the topic and print them to the console\n",
    "            # for message in consumer:\n",
    "            #     print(message.value.decode())\n",
    "\n",
    "            # Đợi 1 giây trước khi đẩy dữ liệu tiếp theo\n",
    "            time.sleep(1)\n",
    "    except KeyboardInterrupt:\n",
    "        print(\"Stopping data push...\")\n",
    "    finally:\n",
    "        producer.close()\n",
    "\n",
    "if __name__ == \"__main__\":\n",
    "    stream_data_to_kafka()\n"
   ]
  }
 ],
 "metadata": {
  "kernelspec": {
   "display_name": "sic",
   "language": "python",
   "name": "python3"
  },
  "language_info": {
   "codemirror_mode": {
    "name": "ipython",
    "version": 3
   },
   "file_extension": ".py",
   "mimetype": "text/x-python",
   "name": "python",
   "nbconvert_exporter": "python",
   "pygments_lexer": "ipython3",
   "version": "3.7.9"
  }
 },
 "nbformat": 4,
 "nbformat_minor": 2
}
